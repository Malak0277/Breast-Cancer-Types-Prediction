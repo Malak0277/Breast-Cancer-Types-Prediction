{
 "cells": [
  {
   "cell_type": "markdown",
   "id": "87e1dd82-6d39-4bcf-a5ac-83eea13529c5",
   "metadata": {},
   "source": [
    "For more information, you can visit: https://www.linkedin.com/pulse/why-so-important-avoid-data-high-correlation-how-can-you-santos-oyyuc?utm_source=share&utm_medium=member_ios&utm_campaign=share_via"
   ]
  },
  {
   "cell_type": "code",
   "execution_count": null,
   "id": "ae7689f3-d058-496d-b52e-2346a3d5f659",
   "metadata": {},
   "outputs": [],
   "source": []
  },
  {
   "cell_type": "code",
   "execution_count": null,
   "id": "b1c5c4c8-4a06-44c0-8192-0f50f0c14ba1",
   "metadata": {},
   "outputs": [],
   "source": [
    "def detect_outliers(data, feature):    \n",
    "    Q1 = data_cleaned[feature].quantile(0.25)  \n",
    "    Q3 = data_cleaned[feature].quantile(0.75) \n",
    "    IQR = Q3 - Q1  # Interquartile range\n",
    "    lower_bound = Q1 - 1.5 * IQR\n",
    "    upper_bound = Q3 + 1.5 * IQR\n",
    "    outliers = data[(data[feature] < lower_bound) | (data[feature] > upper_bound)]\n",
    "    return outliers"
   ]
  },
  {
   "cell_type": "code",
   "execution_count": null,
   "id": "1e65653a-e193-45d7-995f-e8a498925ba1",
   "metadata": {},
   "outputs": [],
   "source": []
  },
  {
   "cell_type": "code",
   "execution_count": null,
   "id": "582f567a-b9bc-4327-8ddc-d746d6ba335e",
   "metadata": {},
   "outputs": [],
   "source": [
    "def detect_outliers(data, column):\n",
    "    Q1 = data[column].quantile(0.25)\n",
    "    Q3 = data[column].quantile(0.75)\n",
    "    IQR = Q3 - Q1\n",
    "    lower_bound = Q1 - 1.5 * IQR\n",
    "    upper_bound = Q3 + 1.5 * IQR\n",
    "    outliers = data[(data[column] < lower_bound) | (data[column] > upper_bound)]\n",
    "    return outliers\n",
    "\n",
    "for col in data.columns:\n",
    "    outliers = detect_outliers(data, col)\n",
    "    print(f\"Outliers detected in feature '{feature}':\")\n",
    "    print(outliers[col])"
   ]
  },
  {
   "cell_type": "code",
   "execution_count": null,
   "id": "122075e6-3e6b-4bbe-9c0a-f8ad625fd649",
   "metadata": {},
   "outputs": [],
   "source": []
  },
  {
   "cell_type": "code",
   "execution_count": null,
   "id": "aac3a85b-ca96-4245-9c02-31b0a838bbaa",
   "metadata": {},
   "outputs": [],
   "source": [
    "for col, indices in outliers.items():\n",
    "    df.loc[indices, col] = None  # Mark outliers as NaN"
   ]
  },
  {
   "cell_type": "code",
   "execution_count": null,
   "id": "4a4dedd7-b861-4be9-9973-0dd7355691e9",
   "metadata": {},
   "outputs": [],
   "source": []
  },
  {
   "cell_type": "code",
   "execution_count": null,
   "id": "842d0108-feff-42bd-8864-814316fefc6e",
   "metadata": {},
   "outputs": [],
   "source": [
    "cols = 3\n",
    "rows = math.ceil(len(data.columns) / cols)\n",
    "fig = plt.figure(figsize=(15, rows * 3))\n",
    "\n",
    "# Plot each feature\n",
    "for i, feature in enumerate(data.columns):\n",
    "    ax = fig.add_subplot(rows, cols, i + 1)\n",
    "    ax.scatter(range(len(data[feature])), data[feature], alpha=0.6)\n",
    "    ax.set_title(feature)\n",
    "    ax.set_xlabel('Index')\n",
    "    ax.set_ylabel('Values')\n",
    "\n",
    "plt.tight_layout()\n",
    "plt.show()"
   ]
  },
  {
   "cell_type": "code",
   "execution_count": null,
   "id": "cbaa2eb2-9a54-4c00-a54c-65b4ec4096e1",
   "metadata": {},
   "outputs": [],
   "source": []
  },
  {
   "cell_type": "code",
   "execution_count": null,
   "id": "5574caea-10db-41f0-b5cb-fb988af2006a",
   "metadata": {},
   "outputs": [],
   "source": [
    "fig = plt.figure(figsize=(15, rows * 3))\n",
    "for i, col in enumerate(data.columns):\n",
    "    ax = fig.add_subplot(rows, cols, i + 1)\n",
    "    ax.boxplot(data[col].dropna(), patch_artist=True, boxprops=dict(facecolor='lightblue'))\n",
    "    ax.set_title(f'Box Plot of {col}')\n",
    "    ax.set_ylabel(col)\n",
    "\n",
    "plt.tight_layout()  # Adjust spacing\n",
    "plt.show()"
   ]
  }
 ],
 "metadata": {
  "kernelspec": {
   "display_name": "Python 3 (ipykernel)",
   "language": "python",
   "name": "python3"
  },
  "language_info": {
   "codemirror_mode": {
    "name": "ipython",
    "version": 3
   },
   "file_extension": ".py",
   "mimetype": "text/x-python",
   "name": "python",
   "nbconvert_exporter": "python",
   "pygments_lexer": "ipython3",
   "version": "3.10.13"
  }
 },
 "nbformat": 4,
 "nbformat_minor": 5
}
