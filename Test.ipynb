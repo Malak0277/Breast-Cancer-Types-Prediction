{
 "cells": [
  {
   "cell_type": "code",
   "execution_count": 1,
   "id": "3b0eac2b-4bf4-4658-807a-0451febb1dc7",
   "metadata": {},
   "outputs": [],
   "source": [
    "import joblib\n",
    "import pandas as pd\n",
    "from sklearn.metrics import accuracy_score"
   ]
  },
  {
   "cell_type": "code",
   "execution_count": 2,
   "id": "787adbc8-4d12-4b7e-992b-6d4884f4c4e8",
   "metadata": {},
   "outputs": [],
   "source": [
    "test_data = pd.read_csv('test_data.csv')"
   ]
  },
  {
   "cell_type": "code",
   "execution_count": 3,
   "id": "30bd7eed-c3d6-4a1f-be0d-7d00d25755c2",
   "metadata": {},
   "outputs": [],
   "source": [
    "X_test = test_data.drop('diagnosis', axis = 1)\n",
    "y_true = test_data['diagnosis']"
   ]
  },
  {
   "cell_type": "code",
   "execution_count": 4,
   "id": "6b64c1af-800a-44f7-986a-fc3dc62a8c14",
   "metadata": {},
   "outputs": [],
   "source": [
    "y_true = [0 if label == 'B' else 1 for label in y_true]"
   ]
  },
  {
   "cell_type": "markdown",
   "id": "180bcac1-7271-45e9-8e77-b9408df136d4",
   "metadata": {},
   "source": [
    "## Test"
   ]
  },
  {
   "cell_type": "markdown",
   "id": "21f2e459-b990-44f6-afa2-18271bc11593",
   "metadata": {},
   "source": [
    "### DT"
   ]
  },
  {
   "cell_type": "code",
   "execution_count": 5,
   "id": "b456610f-0c64-4597-b1a4-cf057b3fda83",
   "metadata": {},
   "outputs": [],
   "source": [
    "df = joblib.load('decision_tree_model.pkl')\n",
    "y_pred = df.predict(X_test)"
   ]
  },
  {
   "cell_type": "code",
   "execution_count": 6,
   "id": "a26d8d80-b60d-4313-a1e5-1e60c9faba80",
   "metadata": {},
   "outputs": [
    {
     "data": {
      "text/plain": [
       "0.9279437609841827"
      ]
     },
     "execution_count": 6,
     "metadata": {},
     "output_type": "execute_result"
    }
   ],
   "source": [
    "accuracy_score(y_true, y_pred)"
   ]
  },
  {
   "cell_type": "markdown",
   "id": "709329b3-74c9-48e4-988f-88bc35dc5554",
   "metadata": {},
   "source": [
    "### Bayes"
   ]
  },
  {
   "cell_type": "code",
   "execution_count": 7,
   "id": "44b9dbab-c862-4d69-8604-a371c6cb8691",
   "metadata": {},
   "outputs": [],
   "source": [
    "nb = joblib.load('decision_tree_model.pkl')\n",
    "y_pred = nb.predict(X_test)"
   ]
  },
  {
   "cell_type": "code",
   "execution_count": 8,
   "id": "9d59101b-3263-423c-80c5-bf01102b5234",
   "metadata": {},
   "outputs": [
    {
     "data": {
      "text/plain": [
       "0.9279437609841827"
      ]
     },
     "execution_count": 8,
     "metadata": {},
     "output_type": "execute_result"
    }
   ],
   "source": [
    "accuracy_score(y_true, y_pred)"
   ]
  },
  {
   "cell_type": "markdown",
   "id": "253ebdeb-1284-4894-99dd-ae50559485f8",
   "metadata": {},
   "source": [
    "### KNN"
   ]
  },
  {
   "cell_type": "code",
   "execution_count": 9,
   "id": "be01270e-f33f-4e98-9da5-89a54c363888",
   "metadata": {},
   "outputs": [],
   "source": [
    "knn = joblib.load('decision_tree_model.pkl')\n",
    "y_pred = knn.predict(X_test)"
   ]
  },
  {
   "cell_type": "code",
   "execution_count": 10,
   "id": "d5b90635-39fd-48a9-8531-d7deef8a595c",
   "metadata": {},
   "outputs": [
    {
     "data": {
      "text/plain": [
       "0.9279437609841827"
      ]
     },
     "execution_count": 10,
     "metadata": {},
     "output_type": "execute_result"
    }
   ],
   "source": [
    "accuracy_score(y_true, y_pred)"
   ]
  },
  {
   "cell_type": "markdown",
   "id": "9562d82b-b578-4f33-bf79-07d7b15259e7",
   "metadata": {},
   "source": [
    "### MLP"
   ]
  },
  {
   "cell_type": "code",
   "execution_count": 11,
   "id": "b66c64ff-af40-4279-8b8c-1f63a9b9cd75",
   "metadata": {},
   "outputs": [],
   "source": [
    "mlp = joblib.load('decision_tree_model.pkl')\n",
    "y_pred = mlp.predict(X_test)"
   ]
  },
  {
   "cell_type": "code",
   "execution_count": 12,
   "id": "43c82ddd-3d6b-4929-b30e-5eb3cf6ec2bb",
   "metadata": {},
   "outputs": [
    {
     "data": {
      "text/plain": [
       "0.9279437609841827"
      ]
     },
     "execution_count": 12,
     "metadata": {},
     "output_type": "execute_result"
    }
   ],
   "source": [
    "accuracy_score(y_true, y_pred)"
   ]
  },
  {
   "cell_type": "markdown",
   "id": "359096aa-a95b-4a3c-bf81-e6cb4ad76ad8",
   "metadata": {},
   "source": [
    "### SVM"
   ]
  },
  {
   "cell_type": "code",
   "execution_count": 13,
   "id": "f2dc058a-f949-4e00-8b58-e8061af74b08",
   "metadata": {},
   "outputs": [],
   "source": [
    "svm = joblib.load('svm_model.pkl')\n",
    "y_pred = svm.predict(X_test)"
   ]
  },
  {
   "cell_type": "code",
   "execution_count": 14,
   "id": "5d061ce2-9715-4ffe-8a8b-bfb5a3f7e462",
   "metadata": {},
   "outputs": [
    {
     "data": {
      "text/plain": [
       "0.9578207381370826"
      ]
     },
     "execution_count": 14,
     "metadata": {},
     "output_type": "execute_result"
    }
   ],
   "source": [
    "accuracy_score(y_true, y_pred)"
   ]
  },
  {
   "cell_type": "code",
   "execution_count": null,
   "id": "13aeebad-9fc5-4e49-a79e-c52ad50c9e2b",
   "metadata": {},
   "outputs": [],
   "source": []
  },
  {
   "cell_type": "code",
   "execution_count": null,
   "id": "bed41315-0271-4c95-84f9-dce7887bce78",
   "metadata": {},
   "outputs": [],
   "source": []
  },
  {
   "cell_type": "code",
   "execution_count": null,
   "id": "33aba1fb-9c86-4d64-9b2f-65e4dd163c45",
   "metadata": {},
   "outputs": [],
   "source": []
  },
  {
   "cell_type": "code",
   "execution_count": null,
   "id": "738d895c-2a4a-4107-9898-c9e8fd429105",
   "metadata": {},
   "outputs": [],
   "source": []
  },
  {
   "cell_type": "code",
   "execution_count": null,
   "id": "262c169f-6265-4633-9472-c43feec839f8",
   "metadata": {},
   "outputs": [],
   "source": []
  }
 ],
 "metadata": {
  "kernelspec": {
   "display_name": "Python 3 (ipykernel)",
   "language": "python",
   "name": "python3"
  },
  "language_info": {
   "codemirror_mode": {
    "name": "ipython",
    "version": 3
   },
   "file_extension": ".py",
   "mimetype": "text/x-python",
   "name": "python",
   "nbconvert_exporter": "python",
   "pygments_lexer": "ipython3",
   "version": "3.10.13"
  }
 },
 "nbformat": 4,
 "nbformat_minor": 5
}
